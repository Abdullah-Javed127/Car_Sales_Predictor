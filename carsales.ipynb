{
  "nbformat": 4,
  "nbformat_minor": 0,
  "metadata": {
    "colab": {
      "provenance": [],
      "authorship_tag": "ABX9TyNkyLiSLJFIc/BFMlswWWEC",
      "include_colab_link": true
    },
    "kernelspec": {
      "name": "python3",
      "display_name": "Python 3"
    },
    "language_info": {
      "name": "python"
    }
  },
  "cells": [
    {
      "cell_type": "markdown",
      "metadata": {
        "id": "view-in-github",
        "colab_type": "text"
      },
      "source": [
        "<a href=\"https://colab.research.google.com/github/Abdullah-Javed127/Car_Sales_Predictor/blob/main/carsales.ipynb\" target=\"_parent\"><img src=\"https://colab.research.google.com/assets/colab-badge.svg\" alt=\"Open In Colab\"/></a>"
      ]
    },
    {
      "cell_type": "code",
      "execution_count": null,
      "metadata": {
        "id": "-zDmLcNbSRdX"
      },
      "outputs": [],
      "source": [
        "import csv\n",
        "import pandas\n",
        "from sklearn.model_selection import train_test_split\n",
        "from sklearn.linear_model import LinearRegression\n",
        "from sklearn.metrics import mean_squared_error"
      ]
    },
    {
      "cell_type": "code",
      "source": [
        "df=pandas.read_csv('data.csv')\n",
        "print(df)\n"
      ],
      "metadata": {
        "colab": {
          "base_uri": "https://localhost:8080/"
        },
        "id": "ARW08YGpS9kI",
        "outputId": "492feb62-b382-43ed-c8f0-94440d1e5a49"
      },
      "execution_count": null,
      "outputs": [
        {
          "output_type": "stream",
          "name": "stdout",
          "text": [
            "    Year  TotalSales           GDP  ForeignExchangeReserves  ExchangeRate  \\\n",
            "0   2010      146497  196710000000              14350000000            86   \n",
            "1   2011      179139  230590000000              14530000000            90   \n",
            "2   2012      135310  250110000000              10240000000            98   \n",
            "3   2013      136889  258660000000               5160000000           106   \n",
            "4   2014      179953  271360000000              11810000000           101   \n",
            "5   2015      217679  299990000000              17830000000           106   \n",
            "6   2016      213119  313630000000              19650000000           108   \n",
            "7   2017      258792  339210000000              15760000000           111   \n",
            "8   2018      240646  356130000000               9170000000           140   \n",
            "9   2019      113962  320910000000              13420000000           155   \n",
            "10  2020      184397  300430000000              14590000000           161   \n",
            "11  2021      282267  348260000000              19030000000           181   \n",
            "12  2022      128878  376530000000               6160000000           236   \n",
            "\n",
            "    InflationRate  \n",
            "0            12.9  \n",
            "1            11.9  \n",
            "2             9.7  \n",
            "3             7.7  \n",
            "4             7.2  \n",
            "5             2.5  \n",
            "6             3.8  \n",
            "7             4.1  \n",
            "8             5.1  \n",
            "9            10.6  \n",
            "10            9.7  \n",
            "11            9.5  \n",
            "12           19.9  \n"
          ]
        }
      ]
    },
    {
      "cell_type": "code",
      "source": [
        "columnName=df.columns.tolist()\n",
        "print(columnName)\n"
      ],
      "metadata": {
        "colab": {
          "base_uri": "https://localhost:8080/"
        },
        "id": "fRRQvgxKUg_6",
        "outputId": "c38ac473-5e46-44bc-c237-56facbbc6fb4"
      },
      "execution_count": null,
      "outputs": [
        {
          "output_type": "stream",
          "name": "stdout",
          "text": [
            "['Year', 'TotalSales', 'GDP', 'ForeignExchangeReserves', 'ExchangeRate', 'InflationRate']\n"
          ]
        }
      ]
    },
    {
      "cell_type": "code",
      "source": [
        "year = df['Year']\n",
        "totalSales = df['TotalSales']\n",
        "gdp = df['GDP']\n",
        "foreignExchange = df['ForeignExchangeReserves']\n",
        "exchangeRate = df['ExchangeRate']\n",
        "inflationRate = df['InflationRate']"
      ],
      "metadata": {
        "id": "4BB7AX6wVyIC"
      },
      "execution_count": null,
      "outputs": []
    },
    {
      "cell_type": "code",
      "source": [
        "\n",
        "x = df[['GDP', 'ForeignExchangeReserves', 'ExchangeRate', 'InflationRate']]\n",
        "y = df['TotalSales']"
      ],
      "metadata": {
        "id": "i_y8MmWsWKaD"
      },
      "execution_count": null,
      "outputs": []
    },
    {
      "cell_type": "code",
      "source": [
        "x_train,x_test,y_train,y_test= train_test_split(x,y,test_size=0.2,random_state=1)"
      ],
      "metadata": {
        "id": "cSUJyr0EWdF6"
      },
      "execution_count": null,
      "outputs": []
    },
    {
      "cell_type": "code",
      "source": [
        "model=LinearRegression()"
      ],
      "metadata": {
        "id": "niXZBlAFYrwz"
      },
      "execution_count": null,
      "outputs": []
    },
    {
      "cell_type": "code",
      "source": [
        "model.fit(x_train,y_train)"
      ],
      "metadata": {
        "colab": {
          "base_uri": "https://localhost:8080/",
          "height": 74
        },
        "id": "C6-F2QQiYwsz",
        "outputId": "a9d7ec3f-3dbd-4f43-a259-74a74d6716c7"
      },
      "execution_count": null,
      "outputs": [
        {
          "output_type": "execute_result",
          "data": {
            "text/plain": [
              "LinearRegression()"
            ],
            "text/html": [
              "<style>#sk-container-id-2 {color: black;background-color: white;}#sk-container-id-2 pre{padding: 0;}#sk-container-id-2 div.sk-toggleable {background-color: white;}#sk-container-id-2 label.sk-toggleable__label {cursor: pointer;display: block;width: 100%;margin-bottom: 0;padding: 0.3em;box-sizing: border-box;text-align: center;}#sk-container-id-2 label.sk-toggleable__label-arrow:before {content: \"▸\";float: left;margin-right: 0.25em;color: #696969;}#sk-container-id-2 label.sk-toggleable__label-arrow:hover:before {color: black;}#sk-container-id-2 div.sk-estimator:hover label.sk-toggleable__label-arrow:before {color: black;}#sk-container-id-2 div.sk-toggleable__content {max-height: 0;max-width: 0;overflow: hidden;text-align: left;background-color: #f0f8ff;}#sk-container-id-2 div.sk-toggleable__content pre {margin: 0.2em;color: black;border-radius: 0.25em;background-color: #f0f8ff;}#sk-container-id-2 input.sk-toggleable__control:checked~div.sk-toggleable__content {max-height: 200px;max-width: 100%;overflow: auto;}#sk-container-id-2 input.sk-toggleable__control:checked~label.sk-toggleable__label-arrow:before {content: \"▾\";}#sk-container-id-2 div.sk-estimator input.sk-toggleable__control:checked~label.sk-toggleable__label {background-color: #d4ebff;}#sk-container-id-2 div.sk-label input.sk-toggleable__control:checked~label.sk-toggleable__label {background-color: #d4ebff;}#sk-container-id-2 input.sk-hidden--visually {border: 0;clip: rect(1px 1px 1px 1px);clip: rect(1px, 1px, 1px, 1px);height: 1px;margin: -1px;overflow: hidden;padding: 0;position: absolute;width: 1px;}#sk-container-id-2 div.sk-estimator {font-family: monospace;background-color: #f0f8ff;border: 1px dotted black;border-radius: 0.25em;box-sizing: border-box;margin-bottom: 0.5em;}#sk-container-id-2 div.sk-estimator:hover {background-color: #d4ebff;}#sk-container-id-2 div.sk-parallel-item::after {content: \"\";width: 100%;border-bottom: 1px solid gray;flex-grow: 1;}#sk-container-id-2 div.sk-label:hover label.sk-toggleable__label {background-color: #d4ebff;}#sk-container-id-2 div.sk-serial::before {content: \"\";position: absolute;border-left: 1px solid gray;box-sizing: border-box;top: 0;bottom: 0;left: 50%;z-index: 0;}#sk-container-id-2 div.sk-serial {display: flex;flex-direction: column;align-items: center;background-color: white;padding-right: 0.2em;padding-left: 0.2em;position: relative;}#sk-container-id-2 div.sk-item {position: relative;z-index: 1;}#sk-container-id-2 div.sk-parallel {display: flex;align-items: stretch;justify-content: center;background-color: white;position: relative;}#sk-container-id-2 div.sk-item::before, #sk-container-id-2 div.sk-parallel-item::before {content: \"\";position: absolute;border-left: 1px solid gray;box-sizing: border-box;top: 0;bottom: 0;left: 50%;z-index: -1;}#sk-container-id-2 div.sk-parallel-item {display: flex;flex-direction: column;z-index: 1;position: relative;background-color: white;}#sk-container-id-2 div.sk-parallel-item:first-child::after {align-self: flex-end;width: 50%;}#sk-container-id-2 div.sk-parallel-item:last-child::after {align-self: flex-start;width: 50%;}#sk-container-id-2 div.sk-parallel-item:only-child::after {width: 0;}#sk-container-id-2 div.sk-dashed-wrapped {border: 1px dashed gray;margin: 0 0.4em 0.5em 0.4em;box-sizing: border-box;padding-bottom: 0.4em;background-color: white;}#sk-container-id-2 div.sk-label label {font-family: monospace;font-weight: bold;display: inline-block;line-height: 1.2em;}#sk-container-id-2 div.sk-label-container {text-align: center;}#sk-container-id-2 div.sk-container {/* jupyter's `normalize.less` sets `[hidden] { display: none; }` but bootstrap.min.css set `[hidden] { display: none !important; }` so we also need the `!important` here to be able to override the default hidden behavior on the sphinx rendered scikit-learn.org. See: https://github.com/scikit-learn/scikit-learn/issues/21755 */display: inline-block !important;position: relative;}#sk-container-id-2 div.sk-text-repr-fallback {display: none;}</style><div id=\"sk-container-id-2\" class=\"sk-top-container\"><div class=\"sk-text-repr-fallback\"><pre>LinearRegression()</pre><b>In a Jupyter environment, please rerun this cell to show the HTML representation or trust the notebook. <br />On GitHub, the HTML representation is unable to render, please try loading this page with nbviewer.org.</b></div><div class=\"sk-container\" hidden><div class=\"sk-item\"><div class=\"sk-estimator sk-toggleable\"><input class=\"sk-toggleable__control sk-hidden--visually\" id=\"sk-estimator-id-2\" type=\"checkbox\" checked><label for=\"sk-estimator-id-2\" class=\"sk-toggleable__label sk-toggleable__label-arrow\">LinearRegression</label><div class=\"sk-toggleable__content\"><pre>LinearRegression()</pre></div></div></div></div></div>"
            ]
          },
          "metadata": {},
          "execution_count": 58
        }
      ]
    },
    {
      "cell_type": "code",
      "source": [
        "last_known_year = df['Year'].max()  # Assuming 'Year' is a column in your DataFrame\n",
        "future_years = range(last_known_year + 1, last_known_year + len(X_test) + 1)"
      ],
      "metadata": {
        "id": "S9ZPQRm7Y8Qz"
      },
      "execution_count": null,
      "outputs": []
    },
    {
      "cell_type": "code",
      "source": [
        "future_df = pandas.DataFrame({'Year': future_years})\n",
        "\n",
        "# Make predictions for future data points\n",
        "future_predictions = model.predict(x_test)\n",
        "\n",
        "# Add predicted sales to the DataFrame\n",
        "future_df['Predicted_Sales'] = future_predictions\n",
        "\n",
        "# Print or visualize the future predictions\n",
        "print(future_df)"
      ],
      "metadata": {
        "colab": {
          "base_uri": "https://localhost:8080/"
        },
        "id": "O1MJbDhgdb21",
        "outputId": "dd5e1c43-44bc-443a-c172-7f41d69e054e"
      },
      "execution_count": null,
      "outputs": [
        {
          "output_type": "stream",
          "name": "stdout",
          "text": [
            "   Year  Predicted_Sales\n",
            "0  2023    151704.461421\n",
            "1  2024    133600.918241\n",
            "2  2025    177462.736877\n"
          ]
        }
      ]
    }
  ]
}